{
 "cells": [
  {
   "cell_type": "markdown",
   "id": "7da87395",
   "metadata": {},
   "source": [
    "# Project 1: Assembling Genomes"
   ]
  },
  {
   "cell_type": "markdown",
   "id": "a9645da6",
   "metadata": {},
   "source": [
    "\n",
    "   <div class=\"alert alert-block alert-danger\">\n",
    "    <center>Due: <b>Tuesday, 8 February, 4:59pm</b>.</center> \n",
    "   </div>\n",
    "   \n",
    "   <div class=\"alert alert-block alert-warning\">\n",
    "   <center>\n",
    "       <b>Collaboration and Resource Policy</b>\n",
    "    </center>\n",
    "    For this assignment, you are encouraged to work with one other person. Your team must satisfy the constraints mentioned in <a href=\"https://www.dropbox.com/s/g6z2xncwc4jsplp/csbio-class2-inked.pdf?dl=0\">Class 2</a>.\n",
    "    \n",
    "   1. You went to different high schools.\n",
    "   2. You and your partner have different answers to <em>at least one</em> of these questions:\n",
    "       - What country were you born in?\n",
    "       - Have you taken any biology courses at UVA?\n",
    "       - Have you taken cs3102?\n",
    "       - Have you taken cs4102?\n",
    "    \n",
    "We expect most students will have the best learning experience on this assignment by working with a partner, but if you prefer to work alone it is okay to do this assignment on your own.\n",
    "    \n",
    "You are permitted (actually _encouraged_) to discuss these problems with anyone you want, including other students in the class. If you do discuss the specific questions in the assignment with anyone other than your assignment partner and the course staff, though, you should list them in the _External resources used_ section below.\n",
    "    \n",
    "You are welcome to use any resources you want for this assignment, other than ones that would defeat the purpose of the assignment. This means you should not look at answers or code from any other students in the class (other than your collaboration with your partner), and if you find code that implements the problem you are being asked to do for the assignment, you should not use that code. You should document all external resource you use that are not part of the course materials in the _External resources used_ section below."
   ]
  },
  {
   "cell_type": "markdown",
   "id": "14179769",
   "metadata": {},
   "source": [
    "**Team submitting this assignment:**  \n",
    "<div class=\"alert alert-success\">\n",
    "    <b><em>list each member of your team here, including both your name and UVA computing id</em></b>\n",
    "    <p>Alip Arslan (aa8pss)</p>\n",
    "    <p>Sid Chauhan (ssc9yd)</p>\n",
    "</div>\n",
    "\n",
    "**External resources used:** \n",
    "<div class=\"alert alert-success\">\n",
    "<em>It is not necessary to list the course materials, but if you used any other resources, including discussing problems with students not on your team, list them here.</em>\n",
    "</div>"
   ]
  },
  {
   "cell_type": "markdown",
   "id": "57bc46a1",
   "metadata": {},
   "source": [
    "In this project, we will explore genome assembly — the process of determining the order of nucleotides from fragmented reads that are produced by sequencing machines. \n",
    "\n",
    "Genome assembly maps to a very well defined computer science problem, but can get quite complicated, as problems such as full sequence coverage, finding a good length for reads (the $k$ in $k$-mer), and sequencing errors present challenges for sequencing analysis and accuracy. For the required problems (ones everyone is expected to solve), you will be able to assume perfect coverage and no read errors; for the \"challenge\" problem (that is considered a bonus, and not something we expect everyone to be able to solve, and perhaps may not even be feasible for anyone to solve) you will not be able to rely on such assumptions."
   ]
  },
  {
   "cell_type": "markdown",
   "id": "b701651a",
   "metadata": {},
   "source": [
    " <div class=\"alert alert-block alert-warning\">\n",
    "    \n",
    "<b>Submission</b>: You should work on this assignment by forking the provided Project 1 repository (you probably already did this, following the instructions posted at [https://computingbiology.github.io/project1](https://computingbiology.github.io/project1). Add the other teammate to as a collaborator with write access (also under the Settings tab) to this repository.\n",
    "    \n",
    "You should answer the questions and write your code in this Jupyter Notebook. (We don't expect you to need to use any external files or organize your code outside of the notebook, but if you do, make sure to put everything needed to run your code in your repository.) Parts where you are expected to provide and answer (which could be text that can be written in markdown format in the notebook or Python code that runs in the notebook) are marked in green.\n",
    "        \n",
    "When you are ready to submit the assignment, you should create a release of the version you are submitting ([github's directions for how to create a release](https://docs.github.com/en/repositories/releasing-projects-on-github/managing-releases-in-a-repository)) tagged as `submit`. After you've done this, send a message in slack to a channel that includes both team members (so the one sending this message should include the other team member) and all of the course staff (`dave`, `Hyun Jae Cho`, and `Anshuman Suri`) and a link to your repository (feel free to add any other useful comments if you want, but the link to your submission repository is sufficient)."
   ]
  },
  {
   "cell_type": "markdown",
   "id": "6ddc5cc5",
   "metadata": {},
   "source": [
    "## Getting Started"
   ]
  },
  {
   "cell_type": "markdown",
   "id": "65e42801",
   "metadata": {},
   "source": [
    "1. Install basic required packages, should be run only once. You may need to restart the jupyter python kernel (under the Kernel menu) after this. (You can execute this directly in the notebook but running the command below.)"
   ]
  },
  {
   "cell_type": "code",
   "execution_count": 1,
   "id": "9df18fe5",
   "metadata": {
    "scrolled": true
   },
   "outputs": [
    {
     "name": "stdout",
     "output_type": "stream",
     "text": [
      "Requirement already satisfied: gvmagic in /Library/Frameworks/Python.framework/Versions/3.9/lib/python3.9/site-packages (from -r requirements.txt (line 1)) (0.5)\n",
      "Requirement already satisfied: numpy in /Library/Frameworks/Python.framework/Versions/3.9/lib/python3.9/site-packages (from -r requirements.txt (line 2)) (1.22.1)\n",
      "Requirement already satisfied: matplotlib in /Library/Frameworks/Python.framework/Versions/3.9/lib/python3.9/site-packages (from -r requirements.txt (line 3)) (3.5.1)\n",
      "Requirement already satisfied: pydot in /Library/Frameworks/Python.framework/Versions/3.9/lib/python3.9/site-packages (from -r requirements.txt (line 4)) (1.4.2)\n",
      "Requirement already satisfied: python-dateutil>=2.7 in /Library/Frameworks/Python.framework/Versions/3.9/lib/python3.9/site-packages (from matplotlib->-r requirements.txt (line 3)) (2.8.2)\n",
      "Requirement already satisfied: pyparsing>=2.2.1 in /Library/Frameworks/Python.framework/Versions/3.9/lib/python3.9/site-packages (from matplotlib->-r requirements.txt (line 3)) (3.0.7)\n",
      "Requirement already satisfied: fonttools>=4.22.0 in /Library/Frameworks/Python.framework/Versions/3.9/lib/python3.9/site-packages (from matplotlib->-r requirements.txt (line 3)) (4.29.0)\n",
      "Requirement already satisfied: kiwisolver>=1.0.1 in /Library/Frameworks/Python.framework/Versions/3.9/lib/python3.9/site-packages (from matplotlib->-r requirements.txt (line 3)) (1.3.2)\n",
      "Requirement already satisfied: pillow>=6.2.0 in /Library/Frameworks/Python.framework/Versions/3.9/lib/python3.9/site-packages (from matplotlib->-r requirements.txt (line 3)) (9.0.0)\n",
      "Requirement already satisfied: packaging>=20.0 in /Library/Frameworks/Python.framework/Versions/3.9/lib/python3.9/site-packages (from matplotlib->-r requirements.txt (line 3)) (21.3)\n",
      "Requirement already satisfied: cycler>=0.10 in /Library/Frameworks/Python.framework/Versions/3.9/lib/python3.9/site-packages (from matplotlib->-r requirements.txt (line 3)) (0.11.0)\n",
      "Requirement already satisfied: six>=1.5 in /Library/Frameworks/Python.framework/Versions/3.9/lib/python3.9/site-packages (from python-dateutil>=2.7->matplotlib->-r requirements.txt (line 3)) (1.16.0)\n",
      "Note: you may need to restart the kernel to use updated packages.\n"
     ]
    }
   ],
   "source": [
    "%pip install -r requirements.txt"
   ]
  },
  {
   "cell_type": "markdown",
   "id": "68cf7d92",
   "metadata": {},
   "source": [
    "2. Make sure you have [graphviz](https://graphviz.org/) installed on your system. (On a Mac OS X, `brew install graphviz`. For other platforms, see [_https://graphviz.org/download/_](https://graphviz.org/download/).)"
   ]
  },
  {
   "cell_type": "code",
   "execution_count": 3,
   "id": "d39abe1f",
   "metadata": {},
   "outputs": [],
   "source": [
    "import collections\n",
    "import matplotlib.pyplot as plt\n",
    "\n",
    "import utils"
   ]
  },
  {
   "cell_type": "markdown",
   "id": "5554e2bc",
   "metadata": {},
   "source": [
    "## Part 1: Assembling the TeleTubby Genome"
   ]
  },
  {
   "cell_type": "markdown",
   "id": "7985c6cb",
   "metadata": {},
   "source": [
    "For this part, you're given reads generated while trying to sequence the DNA of a mysterious unknown organism with a _tiny_ genome. Some of the course staff is not sure what a TeleTubby is, but I've been assured that no cute creatures were harmed in producing this data (which was generated synthetically).\n",
    "\n",
    "By answering the following questions, you will learn how to assemble the original genome sequence from sequence reads.\n",
    "\n",
    "Sequencing data is often stored in the FASTQ file format, with is a simple ASCII format that is somewhat human-readable. \n",
    "\n",
    "In _TeleTubby.fastq_ (which is included in the repository you forked), you will find the data that was read from the TeleTubby genome. Each four lines of the file repeat the same pattern. For example,\n",
    "```\n",
    "@TeleTubby Genome: Project 1\n",
    "TAAAATGG\n",
    "+\n",
    "HAICDF5I\n",
    "```\n",
    "The first line contains the metadata that encodes the name of the read, the experiment type, the kind of sequencing machine used, etc. \n",
    "\n",
    "The second line is the sequence of bases that was read. \n",
    "\n",
    "The third line is just a placeholder.\n",
    "\n",
    "The fourth line is a sequence of base qualities that encodes the qualities for the corresponding bases in the sequence line. We will discuss and use this for Problem 2."
   ]
  },
  {
   "cell_type": "markdown",
   "id": "744fd5da",
   "metadata": {},
   "source": [
    "Read in the data from `TeleTubby.fastq`:"
   ]
  },
  {
   "cell_type": "code",
   "execution_count": 4,
   "id": "04406782",
   "metadata": {},
   "outputs": [],
   "source": [
    "# Read sequence reads (error-free) from file\n",
    "sequence_reads, qualities = utils.read_fastq('TeleTubby.fastq')"
   ]
  },
  {
   "cell_type": "markdown",
   "id": "69527f9b",
   "metadata": {},
   "source": [
    "### Melting Temperature\n",
    "\n",
    "The GC-content (or the ratio of G and C nucleotides) is related to the melting temperature of a DNA double helix structure. \n",
    "\n",
    "The following equation can be used to estimate the melting temperature (in degrees Celsius) of DNA for a particular sequence:\n",
    "\n",
    "\\begin{equation*}\n",
    "t_m = 64.9+0.41(\\%GC)-\\frac{500}{\\text{length of sequence}}\n",
    "\\end{equation*}\n",
    "\n",
    "As a reference, the human genome is known to have between 35%-60% GC-content. \n",
    "\n",
    "<div class=\"alert alert-success\">\n",
    "\n",
    "**Problem 1.** Calculate the melting temperature for the TeleTubby genome using the formula above. Assume that the sequence is 200 nucleotides long, and that the provided read data has equal coverage everywhere so the G-C distribution in the reads is very close to the actual G-C distribution for the genome. \n",
    "    </div>"
   ]
  },
  {
   "cell_type": "code",
   "execution_count": 4,
   "id": "cd274b8a",
   "metadata": {},
   "outputs": [],
   "source": [
    "# Write code here for calculating the %GC content from the sequence_reads, and computing the estimated melting temperature.\n",
    "\n",
    "total = len(sequence_reads) * 8 # 8 letters in each read\n",
    "gc = 0\n",
    "\n",
    "for read in sequence_reads:\n",
    "    gc = gc + read.count('C') + read.count('G')\n",
    "    \n",
    "gc_content = gc / total\n",
    "\n",
    "melt_temp = 64.9 + 0.41 * gc_content - (500 / len(sequence_reads))"
   ]
  },
  {
   "cell_type": "code",
   "execution_count": 5,
   "id": "c5cc58d6",
   "metadata": {},
   "outputs": [
    {
     "name": "stdout",
     "output_type": "stream",
     "text": [
      "62.55345663265307\n"
     ]
    }
   ],
   "source": [
    "# Print out temperature in Celsius\n",
    "\n",
    "print(melt_temp)"
   ]
  },
  {
   "cell_type": "markdown",
   "id": "72723374",
   "metadata": {},
   "source": [
    "## Interpreting Read Quality"
   ]
  },
  {
   "cell_type": "markdown",
   "id": "e9a67a93",
   "metadata": {},
   "source": [
    "Phred33 quality scores are represented as the character with an ASCII code equal to its value + 33 (to make them easy to print alongside genome sequences). The Phred scores $Q$ are related to error probabilities $P$ as: $Q = -10 \\log_{10}(P)$. The table linked here provides a mapping from the Phred values provided in a fastq file and the $Q$ values: [Quality Score Encoding](https://support.illumina.com/help/BaseSpace_OLH_009008/Content/Source/Informatics/BS/QualityScoreEncoding_swBS.htm) \n",
    "\n",
    "<div class=\"alert alert-success\">\n",
    "    \n",
    "**Problem 2.** Using the Phred scores, identify the _least likely to be correct_ read in the TeleTubby.fastq data, which is the read with the lowest probability that it contains _no_ errors.\n",
    "\n",
    "</div>"
   ]
  },
  {
   "cell_type": "code",
   "execution_count": 6,
   "id": "76758368",
   "metadata": {},
   "outputs": [
    {
     "name": "stdout",
     "output_type": "stream",
     "text": [
      "ATCCCCCG\n"
     ]
    }
   ],
   "source": [
    "# Write your code for Problem 2 here. \n",
    "# It should output the read (nucleotide sequence) with the lowest probability of containing no errors.\n",
    "\n",
    "# Highest Q score means it will have the lowest probability of having no errors.\n",
    "q_scores = [];\n",
    "for score in qualities:\n",
    "    q_scores.append(sum(bytearray(score, 'ascii'))) # summing all the Q scores in a read\n",
    "\n",
    "print(sequence_reads[q_scores.index(min(q_scores))])"
   ]
  },
  {
   "cell_type": "markdown",
   "id": "9d9abeb9",
   "metadata": {},
   "source": [
    "Note: For the following problems, you can ignore the read quality scores, and safely assume there are no actual errors in the provided TeleTubby reads."
   ]
  },
  {
   "cell_type": "markdown",
   "id": "8e55395f",
   "metadata": {},
   "source": [
    "## Frequency analysis\n",
    "\n",
    "Looking at repetitions in the sequence can be helpful in estimating the \"redundancy\" in the organisms. Eucaryote genomes have a lot of redundancy, while smaller organisms like bacteria have highly packed genomes. One heuristic to estimate this before actually performing the assembly could be looking at how often certain $k$-mers are repeated.\n",
    "\n",
    "<div class=\"alert alert-success\">\n",
    "    \n",
    "**Problem 3.**\n",
    "    Print out the 3 most frequent <em>k</em>-mers in the TeleTubby reads with their frequencies. (As in Problem 1, doing this from the reads only produces the same result as from the genome if the read coverage is equal everywhere, but it should be a close estimate.)\n",
    "</div>"
   ]
  },
  {
   "cell_type": "code",
   "execution_count": 22,
   "id": "bdbd6bc8",
   "metadata": {},
   "outputs": [
    {
     "name": "stdout",
     "output_type": "stream",
     "text": [
      "[('ATAAAATG', 2), ('GTGATAGG', 2), ('TAATTTTT', 2)]\n"
     ]
    }
   ],
   "source": [
    "from collections import Counter\n",
    "\n",
    "# Counter makes key-value pairs with elements and their frequencies\n",
    "freqs = Counter(sequence_reads)\n",
    "print(freqs.most_common(3))"
   ]
  },
  {
   "cell_type": "markdown",
   "id": "728a612b",
   "metadata": {},
   "source": [
    "## Greedy Assembly"
   ]
  },
  {
   "cell_type": "markdown",
   "id": "36c041ab",
   "metadata": {},
   "source": [
    "Given a set of sequence fragments, the objective of assembly can be viewed as finding the shortest sequence that contains all the fragments.\n",
    "\n",
    "One of the approaches to assemble the genome from the given reads is a greedy algorithm:\n",
    "\n",
    "```\n",
    "while (len(fragments) > 1):\n",
    "   calculate pairwise alignments of all pairs of fragments\n",
    "   merge the two fragments with the largest overlap\n",
    "genome = fragment[0] # the single remaining fragment is the genome\n",
    "```\n"
   ]
  },
  {
   "cell_type": "markdown",
   "id": "35f6e176",
   "metadata": {},
   "source": [
    "<div class=\"alert alert-success\">\n",
    "    \n",
    "**Problem 4 (a)**. What would the runtime be of this algorithm, given $n$ $k$-mer reads? (If you are not sure how to express your answer to this question, review [_Cost of Computation_](https://computingbiology.github.io/complexity/).)\n",
    "    </div>"
   ]
  },
  {
   "cell_type": "markdown",
   "id": "93985b9f",
   "metadata": {},
   "source": [
    "<i>Answer</i>:\n",
    "<p>$\\Theta(n\\log n)$</p>\n",
    "<p>Recurrence relation: $T(n) = 2T(\\frac{n}{2}) + n$\n",
    "<p>This algorithm is the same runtime as a mergesort.</p>"
   ]
  },
  {
   "cell_type": "markdown",
   "id": "6d868a87",
   "metadata": {},
   "source": [
    "<div class=\"alert alert-success\">\n",
    "\n",
    "**Problem 4 (b)**. Is this algorithm guaranteed to find the correct genome? (A good answer will define what _correct_ means here, and explain why the algorithm is or is not guaranteed to find it.)"
   ]
  },
  {
   "cell_type": "markdown",
   "id": "12bfc75b",
   "metadata": {},
   "source": [
    "<i>Answer</i>:\n",
    "<p>If we define a \"correct\" genome to be one that contains all of the reads in the shortest possible string, regardless of order, than the algorithm is guaranteed to find at least one correct genome.</p>"
   ]
  },
  {
   "cell_type": "markdown",
   "id": "44685e7e",
   "metadata": {},
   "source": [
    "## Graph-based Assembly"
   ]
  },
  {
   "cell_type": "markdown",
   "id": "c9d33cc7",
   "metadata": {},
   "source": [
    "Graphs for genome assembly can be constructed in two ways:\n",
    "\n",
    "- de Bruijn graph: Processing $k-$mers as nodes, with $(k-1)-$mers as edges, and\n",
    "- Overlap graph: Processing $k-$mers as edges, with $(k-1)-$mers as nodes.\n",
    "\n",
    "A de Bruijn graph can be processed to find Euler paths, while Overlap graphs can be processed to find Hamiltonian paths. Both of these methods can be used reconstruct the original genome.\n",
    "\n",
    "<div class=\"alert alert-success\">\n",
    "    \n",
    "**Problem 5.**  Use one of these two techniques to reconstruct the TeleTubby genome from the provided sequence reads. \n",
    "    \n",
    "</div>\n",
    "    \n",
    "We have provided some template code below that may be helpful (but feel free to ignore this is you prefer)."
   ]
  },
  {
   "cell_type": "code",
   "execution_count": 28,
   "id": "c50bc332",
   "metadata": {
    "scrolled": false
   },
   "outputs": [
    {
     "ename": "NameError",
     "evalue": "name 'visualize_de_bruijn_graph' is not defined",
     "output_type": "error",
     "traceback": [
      "\u001b[0;31m---------------------------------------------------------------------------\u001b[0m",
      "\u001b[0;31mNameError\u001b[0m                                 Traceback (most recent call last)",
      "Input \u001b[0;32mIn [28]\u001b[0m, in \u001b[0;36m<module>\u001b[0;34m\u001b[0m\n\u001b[1;32m      1\u001b[0m \u001b[38;5;66;03m# Read reads into graph\u001b[39;00m\n\u001b[1;32m      3\u001b[0m \u001b[38;5;124;03m'''def build_graph(k_mers):\u001b[39;00m\n\u001b[1;32m      4\u001b[0m \u001b[38;5;124;03m    edges = []\u001b[39;00m\n\u001b[1;32m      5\u001b[0m \u001b[38;5;124;03m    nodes = set()\u001b[39;00m\n\u001b[0;32m   (...)\u001b[0m\n\u001b[1;32m     13\u001b[0m \u001b[38;5;124;03m    return nodes, edges\u001b[39;00m\n\u001b[1;32m     14\u001b[0m \u001b[38;5;124;03m'''\u001b[39;00m\n\u001b[0;32m---> 16\u001b[0m dbg \u001b[38;5;241m=\u001b[39m \u001b[43mvisualize_de_bruijn_graph\u001b[49m(\u001b[38;5;124m'\u001b[39m\u001b[38;5;124mACGCGTCG\u001b[39m\u001b[38;5;124m'\u001b[39m, \u001b[38;5;241m3\u001b[39m)\n",
      "\u001b[0;31mNameError\u001b[0m: name 'visualize_de_bruijn_graph' is not defined"
     ]
    }
   ],
   "source": [
    "# Read reads into graph\n",
    "\n",
    "def build_graph(k_mers):\n",
    "    edges = []\n",
    "    nodes = set()\n",
    "    \n",
    "    # Your code here (de Bruijn)\n",
    "    edges = sequence_reads\n",
    "    for read in sequence_reads:\n",
    "        nodes.add(read[0:7])\n",
    "        nodes.add(read[1:8])\n",
    "    \n",
    "    return nodes, edges"
   ]
  },
  {
   "cell_type": "code",
   "execution_count": 26,
   "id": "f60e36d1",
   "metadata": {},
   "outputs": [],
   "source": [
    "nodes, edges = build_graph(sequence_reads)"
   ]
  },
  {
   "cell_type": "code",
   "execution_count": 23,
   "id": "93131d20",
   "metadata": {},
   "outputs": [],
   "source": [
    "# Needed to properly visualize graphs\n",
    "%load_ext gvmagic"
   ]
  },
  {
   "cell_type": "code",
   "execution_count": 27,
   "id": "a238b91e",
   "metadata": {},
   "outputs": [
    {
     "ename": "ValueError",
     "evalue": "too many values to unpack (expected 2)",
     "output_type": "error",
     "traceback": [
      "\u001b[0;31m---------------------------------------------------------------------------\u001b[0m",
      "\u001b[0;31mValueError\u001b[0m                                Traceback (most recent call last)",
      "Input \u001b[0;32mIn [27]\u001b[0m, in \u001b[0;36m<module>\u001b[0;34m\u001b[0m\n\u001b[1;32m      1\u001b[0m \u001b[38;5;66;03m# Helper function to visualize graphs\u001b[39;00m\n\u001b[0;32m----> 2\u001b[0m \u001b[43mget_ipython\u001b[49m\u001b[43m(\u001b[49m\u001b[43m)\u001b[49m\u001b[38;5;241;43m.\u001b[39;49m\u001b[43mrun_line_magic\u001b[49m\u001b[43m(\u001b[49m\u001b[38;5;124;43m'\u001b[39;49m\u001b[38;5;124;43mdotstr\u001b[39;49m\u001b[38;5;124;43m'\u001b[39;49m\u001b[43m,\u001b[49m\u001b[43m \u001b[49m\u001b[38;5;124;43m'\u001b[39;49m\u001b[38;5;124;43mutils.viz_graph(nodes, edges)\u001b[39;49m\u001b[38;5;124;43m'\u001b[39;49m\u001b[43m)\u001b[49m\n",
      "File \u001b[0;32m/Library/Frameworks/Python.framework/Versions/3.9/lib/python3.9/site-packages/IPython/core/interactiveshell.py:2204\u001b[0m, in \u001b[0;36mInteractiveShell.run_line_magic\u001b[0;34m(self, magic_name, line, _stack_depth)\u001b[0m\n\u001b[1;32m   2202\u001b[0m     kwargs[\u001b[38;5;124m'\u001b[39m\u001b[38;5;124mlocal_ns\u001b[39m\u001b[38;5;124m'\u001b[39m] \u001b[38;5;241m=\u001b[39m \u001b[38;5;28mself\u001b[39m\u001b[38;5;241m.\u001b[39mget_local_scope(stack_depth)\n\u001b[1;32m   2203\u001b[0m \u001b[38;5;28;01mwith\u001b[39;00m \u001b[38;5;28mself\u001b[39m\u001b[38;5;241m.\u001b[39mbuiltin_trap:\n\u001b[0;32m-> 2204\u001b[0m     result \u001b[38;5;241m=\u001b[39m \u001b[43mfn\u001b[49m\u001b[43m(\u001b[49m\u001b[38;5;241;43m*\u001b[39;49m\u001b[43margs\u001b[49m\u001b[43m,\u001b[49m\u001b[43m \u001b[49m\u001b[38;5;241;43m*\u001b[39;49m\u001b[38;5;241;43m*\u001b[39;49m\u001b[43mkwargs\u001b[49m\u001b[43m)\u001b[49m\n\u001b[1;32m   2205\u001b[0m \u001b[38;5;28;01mreturn\u001b[39;00m result\n",
      "File \u001b[0;32m/Library/Frameworks/Python.framework/Versions/3.9/lib/python3.9/site-packages/gvmagic.py:55\u001b[0m, in \u001b[0;36mGraphvizMagics.dotstr\u001b[0;34m(self, line)\u001b[0m\n\u001b[1;32m     53\u001b[0m \u001b[38;5;129m@line_magic\u001b[39m\n\u001b[1;32m     54\u001b[0m \u001b[38;5;28;01mdef\u001b[39;00m \u001b[38;5;21mdotstr\u001b[39m(\u001b[38;5;28mself\u001b[39m, line):\n\u001b[0;32m---> 55\u001b[0m     \u001b[38;5;28;43mself\u001b[39;49m\u001b[38;5;241;43m.\u001b[39;49m\u001b[43m_from_str\u001b[49m\u001b[43m(\u001b[49m\u001b[43mline\u001b[49m\u001b[43m,\u001b[49m\u001b[43m \u001b[49m\u001b[38;5;124;43m'\u001b[39;49m\u001b[38;5;124;43mdot\u001b[39;49m\u001b[38;5;124;43m'\u001b[39;49m\u001b[43m)\u001b[49m\n",
      "File \u001b[0;32m/Library/Frameworks/Python.framework/Versions/3.9/lib/python3.9/site-packages/gvmagic.py:155\u001b[0m, in \u001b[0;36mGraphvizMagics._from_str\u001b[0;34m(self, line, layout_engine)\u001b[0m\n\u001b[1;32m    154\u001b[0m \u001b[38;5;28;01mdef\u001b[39;00m \u001b[38;5;21m_from_str\u001b[39m(\u001b[38;5;28mself\u001b[39m, line, layout_engine):\n\u001b[0;32m--> 155\u001b[0m     s \u001b[38;5;241m=\u001b[39m \u001b[38;5;28;43mself\u001b[39;49m\u001b[38;5;241;43m.\u001b[39;49m\u001b[43mshell\u001b[49m\u001b[38;5;241;43m.\u001b[39;49m\u001b[43mev\u001b[49m\u001b[43m(\u001b[49m\u001b[43mline\u001b[49m\u001b[43m)\u001b[49m\n\u001b[1;32m    156\u001b[0m     data \u001b[38;5;241m=\u001b[39m run_graphviz(s, layout_engine)\n\u001b[1;32m    157\u001b[0m     \u001b[38;5;28;01mif\u001b[39;00m data:\n",
      "File \u001b[0;32m/Library/Frameworks/Python.framework/Versions/3.9/lib/python3.9/site-packages/IPython/core/interactiveshell.py:2586\u001b[0m, in \u001b[0;36mInteractiveShell.ev\u001b[0;34m(self, expr)\u001b[0m\n\u001b[1;32m   2581\u001b[0m \u001b[38;5;124;03m\"\"\"Evaluate python expression expr in user namespace.\u001b[39;00m\n\u001b[1;32m   2582\u001b[0m \n\u001b[1;32m   2583\u001b[0m \u001b[38;5;124;03mReturns the result of evaluation\u001b[39;00m\n\u001b[1;32m   2584\u001b[0m \u001b[38;5;124;03m\"\"\"\u001b[39;00m\n\u001b[1;32m   2585\u001b[0m \u001b[38;5;28;01mwith\u001b[39;00m \u001b[38;5;28mself\u001b[39m\u001b[38;5;241m.\u001b[39mbuiltin_trap:\n\u001b[0;32m-> 2586\u001b[0m     \u001b[38;5;28;01mreturn\u001b[39;00m \u001b[38;5;28;43meval\u001b[39;49m\u001b[43m(\u001b[49m\u001b[43mexpr\u001b[49m\u001b[43m,\u001b[49m\u001b[43m \u001b[49m\u001b[38;5;28;43mself\u001b[39;49m\u001b[38;5;241;43m.\u001b[39;49m\u001b[43muser_global_ns\u001b[49m\u001b[43m,\u001b[49m\u001b[43m \u001b[49m\u001b[38;5;28;43mself\u001b[39;49m\u001b[38;5;241;43m.\u001b[39;49m\u001b[43muser_ns\u001b[49m\u001b[43m)\u001b[49m\n",
      "File \u001b[0;32m<string>:1\u001b[0m, in \u001b[0;36m<module>\u001b[0;34m\u001b[0m\n",
      "File \u001b[0;32m~/Desktop/school/uva/comp-bio/Project-1-Genome-Assembly/utils.py:97\u001b[0m, in \u001b[0;36mviz_graph\u001b[0;34m(n, e)\u001b[0m\n\u001b[1;32m     95\u001b[0m \u001b[38;5;124;03m\"\"\" visualize graph\"\"\"\u001b[39;00m\n\u001b[1;32m     96\u001b[0m dot_str \u001b[38;5;241m=\u001b[39m \u001b[38;5;124m'\u001b[39m\u001b[38;5;124mdigraph \u001b[39m\u001b[38;5;124m\"\u001b[39m\u001b[38;5;124mAssembly graph\u001b[39m\u001b[38;5;124m\"\u001b[39m\u001b[38;5;124m \u001b[39m\u001b[38;5;124m{\u001b[39m\u001b[38;5;130;01m\\n\u001b[39;00m\u001b[38;5;124m'\u001b[39m\n\u001b[0;32m---> 97\u001b[0m \u001b[38;5;28;01mfor\u001b[39;00m src, dst \u001b[38;5;129;01min\u001b[39;00m e:\n\u001b[1;32m     98\u001b[0m     dot_str \u001b[38;5;241m+\u001b[39m\u001b[38;5;241m=\u001b[39m \u001b[38;5;124m'\u001b[39m\u001b[38;5;132;01m{}\u001b[39;00m\u001b[38;5;124m -> \u001b[39m\u001b[38;5;132;01m{}\u001b[39;00m\u001b[38;5;124m ;\u001b[39m\u001b[38;5;130;01m\\n\u001b[39;00m\u001b[38;5;124m'\u001b[39m\u001b[38;5;241m.\u001b[39mformat(src, dst)\n\u001b[1;32m     99\u001b[0m \u001b[38;5;28;01mreturn\u001b[39;00m dot_str \u001b[38;5;241m+\u001b[39m \u001b[38;5;124m'\u001b[39m\u001b[38;5;124m}\u001b[39m\u001b[38;5;130;01m\\n\u001b[39;00m\u001b[38;5;124m'\u001b[39m\n",
      "\u001b[0;31mValueError\u001b[0m: too many values to unpack (expected 2)"
     ]
    }
   ],
   "source": [
    "# Helper function to visualize graphs\n",
    "%dotstr utils.viz_graph(nodes, edges)"
   ]
  },
  {
   "cell_type": "code",
   "execution_count": null,
   "id": "3c4f6bfc",
   "metadata": {},
   "outputs": [],
   "source": [
    "# Main assembly algorithm\n",
    "\n",
    "def assemble_sequence(nodes, edges):\n",
    "    assembled_sequence = \"\"\n",
    "    # Your code here\n",
    "    return assembled_sequence"
   ]
  },
  {
   "cell_type": "code",
   "execution_count": null,
   "id": "a5b1b2e3",
   "metadata": {},
   "outputs": [],
   "source": [
    "# Output assembled sequence\n",
    "# Hint: Sequence is 200 nucleotides long\n",
    "\n",
    "assmebled_seq = assemble_sequence(nodes, edges)"
   ]
  },
  {
   "cell_type": "markdown",
   "id": "ceda6460",
   "metadata": {},
   "source": [
    "<div class=\"alert alert-success\"> \n",
    "    \n",
    "**Problem 6.** Which of the two assembly methods did you use for problem 5, and why? (Hint: consider \n",
    "how the costs scale with the number of reads.)\n",
    "    \n",
    "</div>"
   ]
  },
  {
   "cell_type": "markdown",
   "id": "371843a2",
   "metadata": {},
   "source": [
    "## Part 2: Sequencing SARS-CoV-2 virus"
   ]
  },
  {
   "cell_type": "markdown",
   "id": "acaaaf30",
   "metadata": {},
   "source": [
    "Let's move on from TeleTubbies to real-world organisms. For this problem, you'll assemble a genome for a variant of the SARS-CoV-2 virus. You're given reads from <i>actual</i> genome sequencing runs in the provided `SARS-CoV2.fastq` file. The file is based on the first Covid genome that was submitted on 5 January 2020: [https://www.ncbi.nlm.nih.gov/nuccore/NC_045512](https://www.ncbi.nlm.nih.gov/nuccore/NC_045512) But, you should be reconstructing a sequence from the provided reads without looking at the source sequence.\n",
    "\n",
    "<div class=\"alert alert-success\">\n",
    "    \n",
    "**Problem 7.**  Reconstruct the SATS-CoV2 genome from the provided sequence reads using $k=25$. \n",
    "    \n",
    "</div>\n",
    "\n",
    "You can re-use your implementation from Problem 5 and simply run it on the new data (depending on what you did for Problem 5, that might be enough to solve this problem). \n",
    "\n",
    "Print out your reconstructed sequence to a file `output.txt` (and add this file to the repo you submit). For this part, we will still assume that all the reads are error-free. "
   ]
  },
  {
   "cell_type": "code",
   "execution_count": null,
   "id": "d22dc9c8",
   "metadata": {},
   "outputs": [],
   "source": [
    "# Read sequence reads\n",
    "sequence_reads_covid, qualities_covid = utils.read_fastq('SARS-CoV2.fastq')"
   ]
  },
  {
   "cell_type": "code",
   "execution_count": null,
   "id": "2aa96edc",
   "metadata": {},
   "outputs": [],
   "source": [
    "# Read reads into graph\n",
    "nodes_covid, edges_covid = build_graph(sequence_reads_covid)"
   ]
  },
  {
   "cell_type": "code",
   "execution_count": null,
   "id": "744737bc",
   "metadata": {},
   "outputs": [],
   "source": [
    "# Call main assembly algorithm\n",
    "assmebled_covid_seq = assemble_sequence(nodes_covid, edges_covid)"
   ]
  },
  {
   "cell_type": "code",
   "execution_count": 43,
   "id": "b0644396",
   "metadata": {},
   "outputs": [
    {
     "ename": "NameError",
     "evalue": "name 'assmebled_covid_seq' is not defined",
     "output_type": "error",
     "traceback": [
      "\u001b[0;31m---------------------------------------------------------------------------\u001b[0m",
      "\u001b[0;31mNameError\u001b[0m                                 Traceback (most recent call last)",
      "Input \u001b[0;32mIn [43]\u001b[0m, in \u001b[0;36m<module>\u001b[0;34m\u001b[0m\n\u001b[1;32m      1\u001b[0m \u001b[38;5;66;03m# Write assembled sequence to file\u001b[39;00m\n\u001b[1;32m      2\u001b[0m \u001b[38;5;28;01mwith\u001b[39;00m \u001b[38;5;28mopen\u001b[39m(\u001b[38;5;124m\"\u001b[39m\u001b[38;5;124moutput.txt\u001b[39m\u001b[38;5;124m\"\u001b[39m, \u001b[38;5;124m\"\u001b[39m\u001b[38;5;124mw\u001b[39m\u001b[38;5;124m\"\u001b[39m) \u001b[38;5;28;01mas\u001b[39;00m f:\n\u001b[0;32m----> 3\u001b[0m     f\u001b[38;5;241m.\u001b[39mwrite(\u001b[43massmebled_covid_seq\u001b[49m)\n",
      "\u001b[0;31mNameError\u001b[0m: name 'assmebled_covid_seq' is not defined"
     ]
    }
   ],
   "source": [
    "# Write assembled sequence to file\n",
    "with open(\"output.txt\", \"w\") as f:`\n",
    "    f.write(assmebled_covid_seq)"
   ]
  },
  {
   "cell_type": "markdown",
   "id": "ccfb4bda",
   "metadata": {},
   "source": [
    "# Part 3: Error-Aware Assembly (Challenge Problem)"
   ]
  },
  {
   "cell_type": "markdown",
   "id": "9c03fa24",
   "metadata": {},
   "source": [
    "<div class=\"alert alert-warning\">\n",
    "    This problem is a \"Challenge Problem\". This means it is a problem of unknown difficulty that might be quite challenging (unlike the earlier problems, we don't have a reference solution for this one, or a clear idea how hard it might be). We do hope all students will at least attempt this and that more ambitious students will work hard to solve it and learn interesting things by the attempt (whether or not it is successful), but not get frustrated if you can't get to the desired answer.  As a \"Challenge Problem\" it means that you shouldn't be worried if you are not able to solve this, though, and you can get full expected credit on this assignment without answering it.\n",
    "</div>\n",
    "\n",
    "\n",
    "In the parts above, we assumed error-free reads while assembling $k$-mers. As much as we'd like that, actual reads can (and do) have errors, captured by their Phred scores. \n",
    "\n",
    "For this question, you're given raw, actual reads from sequencing runs. Download the reads from this file:\n",
    "https://sra-pub-sars-cov2.s3.amazonaws.com/sra-src/SRR11528307/ABS2-LN-R1_cleaned_paired.fastq.gz.  \n",
    "\n",
    "\n",
    "<div class=\"alert alert-success\">\n",
    "    \n",
    "**Problem 8 (Challenge).** Give the reads in the linked fastq file above, including their Phred33 quality score, assemble the most likely genome. Your solution should output the assembled sequence in `challenge.txt`. Provide a brief explantion of how your algorithm works and interesting things you learned in developing it.\n",
    "    \n",
    "</div>\n",
    "    \n",
    "This is an open-ended question. You are free to use any approach to deal with the issue. Make sure you provide your code, along with any assumptions you may have."
   ]
  },
  {
   "cell_type": "markdown",
   "id": "5d7e82e1",
   "metadata": {},
   "source": [
    "_Write a description of your algorithm, and things you learned from working on this here._"
   ]
  },
  {
   "cell_type": "code",
   "execution_count": null,
   "id": "4594e10b",
   "metadata": {},
   "outputs": [],
   "source": [
    "# implementation "
   ]
  },
  {
   "cell_type": "markdown",
   "id": "89a97c21",
   "metadata": {},
   "source": [
    "   <div class=\"alert alert-block alert-danger\">\n",
    "    <center>\n",
    "        \n",
    " **Remember to follow the submission directions above to submit your assignment by 4:59pm on Tuesday, 8 February.**\n",
    "    \n",
    " </center>\n",
    " </div>"
   ]
  }
 ],
 "metadata": {
  "kernelspec": {
   "display_name": "Python 3 (ipykernel)",
   "language": "python",
   "name": "python3"
  },
  "language_info": {
   "codemirror_mode": {
    "name": "ipython",
    "version": 3
   },
   "file_extension": ".py",
   "mimetype": "text/x-python",
   "name": "python",
   "nbconvert_exporter": "python",
   "pygments_lexer": "ipython3",
   "version": "3.9.2"
  }
 },
 "nbformat": 4,
 "nbformat_minor": 5
}
